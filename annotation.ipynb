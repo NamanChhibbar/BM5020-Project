{
 "cells": [
  {
   "cell_type": "code",
   "execution_count": null,
   "metadata": {},
   "outputs": [],
   "source": [
    "# use SAM model to segment the image\n",
    "\n",
    "import os\n",
    "import pickle\n",
    "import cv2\n",
    "import torch\n",
    "import matplotlib.pyplot as plt\n",
    "from segment_anything import SamPredictor, sam_model_registry\n",
    "\n",
    "from utils import (\n",
    "    show_mask, show_box, get_device\n",
    ")\n",
    "\n",
    "# !wget -O medsam_vit_b.pth https://zenodo.org/records/10689643/files/medsam_vit_b.pth\n",
    "# !wget https://dl.fbaipublicfiles.com/segment_anything/sam_vit_h_4b8939.pth"
   ]
  },
  {
   "cell_type": "code",
   "execution_count": null,
   "metadata": {},
   "outputs": [],
   "source": [
    "device = get_device()\n",
    "\n",
    "sam_checkpoint = \"/Users/naman/Workspace/Data/BM5020-POEM/sam_vit_h_4b8939.pth\"\n",
    "# sam_checkpoint = \"/home/pradeep/Documents/IITH_Academics/sem-6/AI in Biomedicine and Healthcare/BM5020-Project/sam_vit_h_4b8939.pth\"\n",
    "model_type = \"vit_h\"\n",
    "\n",
    "sam = sam_model_registry[model_type](checkpoint=sam_checkpoint)\n",
    "sam.to(device)\n",
    "\n",
    "predictor = SamPredictor(sam)"
   ]
  },
  {
   "cell_type": "code",
   "execution_count": null,
   "metadata": {},
   "outputs": [],
   "source": [
    "im_dir = \"/Users/naman/Workspace/Data/BM5020-POEM/Annotated\"\n",
    "im_filenames = [\n",
    "    im_file for im_file in os.listdir(im_dir)\n",
    "    if os.path.splitext(im_file)[1] == \".jpg\"\n",
    "]\n",
    "filenames_iter = iter(im_filenames)\n",
    "\n",
    "im_filenames"
   ]
  },
  {
   "cell_type": "code",
   "execution_count": null,
   "metadata": {},
   "outputs": [],
   "source": [
    "pkl_path = f\"{im_dir}/annotations.pkl\"\n",
    "\n",
    "with open(pkl_path, \"rb\") as file:\n",
    "    all_masks = pickle.load(file)\n",
    "\n",
    "len(all_masks)"
   ]
  },
  {
   "cell_type": "markdown",
   "metadata": {},
   "source": [
    "---"
   ]
  },
  {
   "cell_type": "code",
   "execution_count": null,
   "metadata": {},
   "outputs": [],
   "source": [
    "filename = next(filenames_iter)\n",
    "while filename in all_masks.keys():\n",
    "    filename = next(filenames_iter)\n",
    "\n",
    "print(filename, filename in all_masks.keys(), sep=\"\\n\")\n",
    "image = cv2.imread(f\"{im_dir}/{filename}\")\n",
    "image = cv2.cvtColor(image, cv2.COLOR_BGR2RGB)\n",
    "plt.imshow(image)\n",
    "plt.show()"
   ]
  },
  {
   "cell_type": "code",
   "execution_count": null,
   "metadata": {},
   "outputs": [],
   "source": [
    "image.shape"
   ]
  },
  {
   "cell_type": "code",
   "execution_count": null,
   "metadata": {},
   "outputs": [],
   "source": [
    "input_boxes = torch.tensor([\n",
    "\n",
    "    # 0 - Background (Null class)\n",
    "    [0, 0, *image.shape[-2::-1]],\n",
    "\n",
    "    # 1 - Muscle layer\n",
    "    [420, 80, 720, 710],\n",
    "\n",
    "    # 2 - Mucosal layer\n",
    "    [10, 10, 580, 710],\n",
    "\n",
    "    # 3 - Electrode\n",
    "    [10, 320, 320, 650]\n",
    "\n",
    "]).to(device)\n",
    "\n",
    "plt.imshow(image)\n",
    "for box in input_boxes:\n",
    "    show_box(box.cpu(), plt.gca())\n",
    "plt.show()"
   ]
  },
  {
   "cell_type": "code",
   "execution_count": null,
   "metadata": {},
   "outputs": [],
   "source": [
    "predictor.set_image(image)\n",
    "transformed_boxes = predictor.transform.apply_boxes_torch(input_boxes, image.shape[:2])\n",
    "masks, _, _ = predictor.predict_torch(\n",
    "    point_coords=None,\n",
    "    point_labels=None,\n",
    "    boxes=transformed_boxes,\n",
    "    multimask_output=False,\n",
    ")\n",
    "\n",
    "plt.imshow(image)\n",
    "for mask in masks:\n",
    "    show_mask(mask.cpu().numpy(), plt.gca(), random_color=True)\n",
    "plt.show()"
   ]
  },
  {
   "cell_type": "code",
   "execution_count": null,
   "metadata": {},
   "outputs": [],
   "source": [
    "all_masks[filename] = masks.squeeze().argmax(0).cpu()\n",
    "\n",
    "print(len(all_masks))"
   ]
  },
  {
   "cell_type": "markdown",
   "metadata": {},
   "source": [
    "---"
   ]
  },
  {
   "cell_type": "code",
   "execution_count": null,
   "metadata": {},
   "outputs": [],
   "source": [
    "masks[:, 0, 350, 400]"
   ]
  },
  {
   "cell_type": "code",
   "execution_count": null,
   "metadata": {},
   "outputs": [],
   "source": [
    "with open(pkl_path, \"wb\") as file:\n",
    "    pickle.dump(all_masks, file)"
   ]
  }
 ],
 "metadata": {
  "kernelspec": {
   "display_name": "Python 3",
   "language": "python",
   "name": "python3"
  },
  "language_info": {
   "codemirror_mode": {
    "name": "ipython",
    "version": 3
   },
   "file_extension": ".py",
   "mimetype": "text/x-python",
   "name": "python",
   "nbconvert_exporter": "python",
   "pygments_lexer": "ipython3",
   "version": "3.12.2"
  }
 },
 "nbformat": 4,
 "nbformat_minor": 2
}
